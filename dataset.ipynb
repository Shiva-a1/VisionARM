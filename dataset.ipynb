{
 "cells": [
  {
   "cell_type": "markdown",
   "id": "6435f830",
   "metadata": {},
   "source": [
    "# Working with our Dataset"
   ]
  },
  {
   "cell_type": "code",
   "execution_count": 3,
   "id": "5aacc662",
   "metadata": {},
   "outputs": [
    {
     "name": "stdout",
     "output_type": "stream",
     "text": [
      "Requirement already satisfied: pandas in /Users/shivanshu_ade/Documents/anaconda3/envs/mp-env/lib/python3.11/site-packages (2.3.3)\n",
      "Requirement already satisfied: numpy>=1.23.2 in /Users/shivanshu_ade/Documents/anaconda3/envs/mp-env/lib/python3.11/site-packages (from pandas) (1.26.4)\n",
      "Requirement already satisfied: python-dateutil>=2.8.2 in /Users/shivanshu_ade/Documents/anaconda3/envs/mp-env/lib/python3.11/site-packages (from pandas) (2.9.0.post0)\n",
      "Requirement already satisfied: pytz>=2020.1 in /Users/shivanshu_ade/Documents/anaconda3/envs/mp-env/lib/python3.11/site-packages (from pandas) (2025.2)\n",
      "Requirement already satisfied: tzdata>=2022.7 in /Users/shivanshu_ade/Documents/anaconda3/envs/mp-env/lib/python3.11/site-packages (from pandas) (2025.2)\n",
      "Requirement already satisfied: six>=1.5 in /Users/shivanshu_ade/Documents/anaconda3/envs/mp-env/lib/python3.11/site-packages (from python-dateutil>=2.8.2->pandas) (1.17.0)\n"
     ]
    }
   ],
   "source": [
    "!pip install pandas"
   ]
  },
  {
   "cell_type": "code",
   "execution_count": 4,
   "id": "7f441342",
   "metadata": {},
   "outputs": [],
   "source": [
    "import numpy as np\n",
    "import pandas as pd\n",
    "import matplotlib.pyplot as plt\n",
    "%matplotlib inline\n",
    "plt.style.use(\"bmh\")"
   ]
  },
  {
   "cell_type": "code",
   "execution_count": 5,
   "id": "66c40bc5",
   "metadata": {},
   "outputs": [
    {
     "data": {
      "text/html": [
       "<div>\n",
       "<style scoped>\n",
       "    .dataframe tbody tr th:only-of-type {\n",
       "        vertical-align: middle;\n",
       "    }\n",
       "\n",
       "    .dataframe tbody tr th {\n",
       "        vertical-align: top;\n",
       "    }\n",
       "\n",
       "    .dataframe thead th {\n",
       "        text-align: right;\n",
       "    }\n",
       "</style>\n",
       "<table border=\"1\" class=\"dataframe\">\n",
       "  <thead>\n",
       "    <tr style=\"text-align: right;\">\n",
       "      <th></th>\n",
       "      <th>left_thumb</th>\n",
       "      <th>left_index</th>\n",
       "      <th>left_middle</th>\n",
       "      <th>left_ring</th>\n",
       "      <th>left_pinky</th>\n",
       "      <th>right_thumb</th>\n",
       "      <th>right_index</th>\n",
       "      <th>right_middle</th>\n",
       "      <th>right_ring</th>\n",
       "      <th>right_pinky</th>\n",
       "      <th>target</th>\n",
       "    </tr>\n",
       "  </thead>\n",
       "  <tbody>\n",
       "    <tr>\n",
       "      <th>0</th>\n",
       "      <td>0</td>\n",
       "      <td>0</td>\n",
       "      <td>1</td>\n",
       "      <td>1</td>\n",
       "      <td>1</td>\n",
       "      <td>0</td>\n",
       "      <td>0</td>\n",
       "      <td>0</td>\n",
       "      <td>0</td>\n",
       "      <td>0</td>\n",
       "      <td>invalid</td>\n",
       "    </tr>\n",
       "    <tr>\n",
       "      <th>1</th>\n",
       "      <td>1</td>\n",
       "      <td>1</td>\n",
       "      <td>1</td>\n",
       "      <td>1</td>\n",
       "      <td>1</td>\n",
       "      <td>0</td>\n",
       "      <td>0</td>\n",
       "      <td>0</td>\n",
       "      <td>0</td>\n",
       "      <td>0</td>\n",
       "      <td>grab</td>\n",
       "    </tr>\n",
       "    <tr>\n",
       "      <th>2</th>\n",
       "      <td>1</td>\n",
       "      <td>1</td>\n",
       "      <td>1</td>\n",
       "      <td>1</td>\n",
       "      <td>1</td>\n",
       "      <td>0</td>\n",
       "      <td>1</td>\n",
       "      <td>1</td>\n",
       "      <td>1</td>\n",
       "      <td>1</td>\n",
       "      <td>right</td>\n",
       "    </tr>\n",
       "    <tr>\n",
       "      <th>3</th>\n",
       "      <td>1</td>\n",
       "      <td>1</td>\n",
       "      <td>1</td>\n",
       "      <td>1</td>\n",
       "      <td>1</td>\n",
       "      <td>0</td>\n",
       "      <td>1</td>\n",
       "      <td>1</td>\n",
       "      <td>0</td>\n",
       "      <td>0</td>\n",
       "      <td>down</td>\n",
       "    </tr>\n",
       "    <tr>\n",
       "      <th>4</th>\n",
       "      <td>1</td>\n",
       "      <td>1</td>\n",
       "      <td>1</td>\n",
       "      <td>1</td>\n",
       "      <td>1</td>\n",
       "      <td>0</td>\n",
       "      <td>1</td>\n",
       "      <td>1</td>\n",
       "      <td>1</td>\n",
       "      <td>1</td>\n",
       "      <td>right</td>\n",
       "    </tr>\n",
       "  </tbody>\n",
       "</table>\n",
       "</div>"
      ],
      "text/plain": [
       "   left_thumb  left_index  left_middle  left_ring  left_pinky  right_thumb  \\\n",
       "0           0           0            1          1           1            0   \n",
       "1           1           1            1          1           1            0   \n",
       "2           1           1            1          1           1            0   \n",
       "3           1           1            1          1           1            0   \n",
       "4           1           1            1          1           1            0   \n",
       "\n",
       "   right_index  right_middle  right_ring  right_pinky   target  \n",
       "0            0             0           0            0  invalid  \n",
       "1            0             0           0            0     grab  \n",
       "2            1             1           1            1    right  \n",
       "3            1             1           0            0     down  \n",
       "4            1             1           1            1    right  "
      ]
     },
     "execution_count": 5,
     "metadata": {},
     "output_type": "execute_result"
    }
   ],
   "source": [
    "data = pd.read_csv(\"visionarm_dataset.csv\")\n",
    "data.head()"
   ]
  },
  {
   "cell_type": "code",
   "execution_count": 6,
   "id": "7df8e30e",
   "metadata": {},
   "outputs": [
    {
     "name": "stdout",
     "output_type": "stream",
     "text": [
      "<class 'pandas.core.frame.DataFrame'>\n",
      "RangeIndex: 2000 entries, 0 to 1999\n",
      "Data columns (total 11 columns):\n",
      " #   Column        Non-Null Count  Dtype \n",
      "---  ------        --------------  ----- \n",
      " 0   left_thumb    2000 non-null   int64 \n",
      " 1   left_index    2000 non-null   int64 \n",
      " 2   left_middle   2000 non-null   int64 \n",
      " 3   left_ring     2000 non-null   int64 \n",
      " 4   left_pinky    2000 non-null   int64 \n",
      " 5   right_thumb   2000 non-null   int64 \n",
      " 6   right_index   2000 non-null   int64 \n",
      " 7   right_middle  2000 non-null   int64 \n",
      " 8   right_ring    2000 non-null   int64 \n",
      " 9   right_pinky   2000 non-null   int64 \n",
      " 10  target        2000 non-null   object\n",
      "dtypes: int64(10), object(1)\n",
      "memory usage: 172.0+ KB\n"
     ]
    }
   ],
   "source": [
    "data.info()"
   ]
  },
  {
   "cell_type": "markdown",
   "id": "8e8c7f17",
   "metadata": {},
   "source": [
    "## Dealing with Missing values-\n",
    "- We do not have any missing values in our data.\n",
    "- However if we get any missing data values while real-time detection, we will impute it with 0 using imputer so that it becomes invalid and the robotic arm won't perform any operation."
   ]
  },
  {
   "cell_type": "code",
   "execution_count": 9,
   "id": "26a7eb54",
   "metadata": {},
   "outputs": [
    {
     "data": {
      "text/plain": [
       "target\n",
       "invalid    600\n",
       "grab       200\n",
       "right      200\n",
       "down       200\n",
       "stop       200\n",
       "left       200\n",
       "drop       200\n",
       "up         200\n",
       "Name: count, dtype: int64"
      ]
     },
     "execution_count": 9,
     "metadata": {},
     "output_type": "execute_result"
    }
   ],
   "source": [
    "label_count = data['target'].value_counts()\n",
    "label_count"
   ]
  },
  {
   "cell_type": "markdown",
   "id": "652d00f9",
   "metadata": {},
   "source": [
    "- Since we manually created our dataset I ensured that the 'invalid' label gets more samples because it has the most diverse combination set of data entries for each features"
   ]
  },
  {
   "cell_type": "code",
   "execution_count": 1,
   "id": "1d44752e",
   "metadata": {},
   "outputs": [
    {
     "name": "stdout",
     "output_type": "stream",
     "text": [
      "Dataset Name: visionarm_dataset\n",
      "Version: v1.0\n",
      "Total Samples: 2000\n",
      "Labels: ['stop', 'grab', 'drop', 'up', 'down', 'left', 'right', 'invalid']\n",
      "Feature Mapping (Example): Left hand thumb (1=raised, 0=closed)\n"
     ]
    }
   ],
   "source": [
    "import json\n",
    "\n",
    "# Load metadata file\n",
    "with open(\"metadata.json\", \"r\") as f:\n",
    "    metadata = json.load(f)\n",
    "\n",
    "# Access specific details\n",
    "print(\"Dataset Name:\", metadata[\"dataset_name\"])\n",
    "print(\"Version:\", metadata[\"version\"])\n",
    "print(\"Total Samples:\", metadata[\"num_samples\"])\n",
    "print(\"Labels:\", metadata[\"target_labels\"])\n",
    "print(\"Feature Mapping (Example):\", metadata[\"field_mapping\"][\"left_thumb\"])"
   ]
  }
 ],
 "metadata": {
  "kernelspec": {
   "display_name": "mp-env",
   "language": "python",
   "name": "python3"
  },
  "language_info": {
   "codemirror_mode": {
    "name": "ipython",
    "version": 3
   },
   "file_extension": ".py",
   "mimetype": "text/x-python",
   "name": "python",
   "nbconvert_exporter": "python",
   "pygments_lexer": "ipython3",
   "version": "3.11.13"
  }
 },
 "nbformat": 4,
 "nbformat_minor": 5
}
